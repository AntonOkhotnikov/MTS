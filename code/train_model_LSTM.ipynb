{
 "cells": [
  {
   "cell_type": "code",
   "execution_count": 1,
   "metadata": {
    "colab": {
     "autoexec": {
      "startup": false,
      "wait_interval": 0
     },
     "base_uri": "https://localhost:8080/",
     "height": 34
    },
    "colab_type": "code",
    "executionInfo": {
     "elapsed": 2050,
     "status": "ok",
     "timestamp": 1529964454943,
     "user": {
      "displayName": "Anton Okhotnikov",
      "photoUrl": "https://lh3.googleusercontent.com/a/default-user=s128",
      "userId": "111886964614144141367"
     },
     "user_tz": -60
    },
    "id": "ExyISQeeknDz",
    "outputId": "5eac7885-7f03-4009-99c5-0b40262bd4f3"
   },
   "outputs": [
    {
     "name": "stderr",
     "output_type": "stream",
     "text": [
      "Using TensorFlow backend.\n"
     ]
    }
   ],
   "source": [
    "import pandas as pd\n",
    "import numpy as np\n",
    "import os\n",
    "import matplotlib.pyplot as plt\n",
    "from keras.optimizers import SGD\n",
    "from keras.utils import np_utils\n",
    "from keras.models import Sequential\n",
    "from keras.layers.core import Dense, Activation\n",
    "from keras.layers.recurrent import LSTM\n",
    "from keras.layers import Dropout\n",
    "from keras.callbacks import EarlyStopping\n",
    "from keras.layers import Bidirectional\n",
    "import h5py\n",
    "from sklearn.utils import shuffle\n",
    "from sklearn.model_selection import train_test_split\n",
    "from sklearn.metrics import accuracy_score\n",
    "from sklearn.metrics import roc_auc_score\n",
    "from sklearn.metrics import f1_score"
   ]
  },
  {
   "cell_type": "markdown",
   "metadata": {
    "colab_type": "text",
    "id": "nAZxtIFmkigF"
   },
   "source": [
    "### Read data"
   ]
  },
  {
   "cell_type": "code",
   "execution_count": 2,
   "metadata": {
    "colab": {
     "autoexec": {
      "startup": false,
      "wait_interval": 0
     },
     "base_uri": "https://localhost:8080/",
     "height": 52
    },
    "colab_type": "code",
    "executionInfo": {
     "elapsed": 500787,
     "status": "ok",
     "timestamp": 1529964981465,
     "user": {
      "displayName": "Anton Okhotnikov",
      "photoUrl": "https://lh3.googleusercontent.com/a/default-user=s128",
      "userId": "111886964614144141367"
     },
     "user_tz": -60
    },
    "id": "hkBJcLzNkigP",
    "outputId": "82278ab3-eef9-4270-83fc-80888bbe21a2"
   },
   "outputs": [
    {
     "data": {
      "text/plain": [
       "((3596, 16, 13), (3596, 4))"
      ]
     },
     "execution_count": 2,
     "metadata": {},
     "output_type": "execute_result"
    }
   ],
   "source": [
    "path = os.getcwd()\n",
    "temp = path.split('/')\n",
    "temp.pop(-1)\n",
    "path = '/'.join(temp)\n",
    "\n",
    "with h5py.File(path + '/data/train_16frames.h5', 'r') as h5file:\n",
    "    X_train = h5file['train'][:]\n",
    "    Y_train = h5file['target'][:]\n",
    "    h5file.close()\n",
    "\n",
    "# shuffle both\n",
    "X_train, Y_train = shuffle(X_train, Y_train)\n",
    "    \n",
    "X_train.shape, Y_train.shape"
   ]
  },
  {
   "cell_type": "markdown",
   "metadata": {},
   "source": [
    "### Split to train and test sets"
   ]
  },
  {
   "cell_type": "code",
   "execution_count": 3,
   "metadata": {},
   "outputs": [],
   "source": [
    "X_train, X_test, Y_train, Y_test = train_test_split(X_train, Y_train, test_size=0.1, random_state=15)"
   ]
  },
  {
   "cell_type": "markdown",
   "metadata": {
    "colab_type": "text",
    "id": "fZDGm5HIkink"
   },
   "source": [
    "### Build a LSTM classifier"
   ]
  },
  {
   "cell_type": "code",
   "execution_count": 4,
   "metadata": {
    "colab": {
     "autoexec": {
      "startup": false,
      "wait_interval": 0
     },
     "base_uri": "https://localhost:8080/",
     "height": 419
    },
    "colab_type": "code",
    "executionInfo": {
     "elapsed": 3725909,
     "status": "ok",
     "timestamp": 1529970354785,
     "user": {
      "displayName": "Anton Okhotnikov",
      "photoUrl": "https://lh3.googleusercontent.com/a/default-user=s128",
      "userId": "111886964614144141367"
     },
     "user_tz": -60
    },
    "id": "lWy4xYIekinq",
    "outputId": "5812eb83-14ae-45ca-e502-bed54906f37e",
    "scrolled": true
   },
   "outputs": [
    {
     "name": "stdout",
     "output_type": "stream",
     "text": [
      "_________________________________________________________________\n",
      "Layer (type)                 Output Shape              Param #   \n",
      "=================================================================\n",
      "lstm_1 (LSTM)                (None, 10)                960       \n",
      "_________________________________________________________________\n",
      "dense_1 (Dense)              (None, 4)                 44        \n",
      "_________________________________________________________________\n",
      "activation_1 (Activation)    (None, 4)                 0         \n",
      "=================================================================\n",
      "Total params: 1,004\n",
      "Trainable params: 1,004\n",
      "Non-trainable params: 0\n",
      "_________________________________________________________________\n",
      "Train on 2750 samples, validate on 486 samples\n",
      "Epoch 1/40\n",
      "2750/2750 [==============================] - 9s 3ms/step - loss: 1.3309 - categorical_accuracy: 0.3793 - val_loss: 1.2911 - val_categorical_accuracy: 0.3971\n",
      "Epoch 2/40\n",
      "2750/2750 [==============================] - 4s 1ms/step - loss: 1.2595 - categorical_accuracy: 0.4240 - val_loss: 1.2641 - val_categorical_accuracy: 0.4177\n",
      "Epoch 3/40\n",
      "2750/2750 [==============================] - 4s 1ms/step - loss: 1.2225 - categorical_accuracy: 0.4542 - val_loss: 1.2423 - val_categorical_accuracy: 0.4156\n",
      "Epoch 4/40\n",
      "2750/2750 [==============================] - 4s 1ms/step - loss: 1.1969 - categorical_accuracy: 0.4698 - val_loss: 1.2442 - val_categorical_accuracy: 0.4259\n",
      "Epoch 5/40\n",
      "2750/2750 [==============================] - 4s 1ms/step - loss: 1.1723 - categorical_accuracy: 0.4811 - val_loss: 1.2307 - val_categorical_accuracy: 0.4403\n",
      "Epoch 6/40\n",
      "2750/2750 [==============================] - 4s 1ms/step - loss: 1.1680 - categorical_accuracy: 0.4876 - val_loss: 1.2273 - val_categorical_accuracy: 0.4383\n",
      "Epoch 7/40\n",
      "2750/2750 [==============================] - 4s 1ms/step - loss: 1.1489 - categorical_accuracy: 0.5025 - val_loss: 1.2260 - val_categorical_accuracy: 0.4300\n",
      "Epoch 8/40\n",
      "2750/2750 [==============================] - 4s 1ms/step - loss: 1.1408 - categorical_accuracy: 0.4993 - val_loss: 1.2107 - val_categorical_accuracy: 0.4300\n",
      "Epoch 9/40\n",
      "2750/2750 [==============================] - 4s 1ms/step - loss: 1.1379 - categorical_accuracy: 0.4953 - val_loss: 1.2268 - val_categorical_accuracy: 0.4321\n",
      "Epoch 10/40\n",
      "2750/2750 [==============================] - 4s 1ms/step - loss: 1.1267 - categorical_accuracy: 0.4949 - val_loss: 1.2040 - val_categorical_accuracy: 0.4486\n",
      "Epoch 11/40\n",
      "2750/2750 [==============================] - 4s 1ms/step - loss: 1.1212 - categorical_accuracy: 0.5156 - val_loss: 1.2019 - val_categorical_accuracy: 0.4588\n",
      "Epoch 12/40\n",
      "2750/2750 [==============================] - 4s 1ms/step - loss: 1.1154 - categorical_accuracy: 0.5065 - val_loss: 1.2129 - val_categorical_accuracy: 0.4424\n",
      "Epoch 13/40\n",
      "2750/2750 [==============================] - 4s 1ms/step - loss: 1.1067 - categorical_accuracy: 0.5138 - val_loss: 1.2061 - val_categorical_accuracy: 0.4383\n",
      "Epoch 00013: early stopping\n"
     ]
    }
   ],
   "source": [
    "np.random.seed(14)  # fix the random numbers generator state\n",
    "\n",
    "batch_size = 16\n",
    "hidden_units = 10\n",
    "input_shape = X_train.shape[1:]\n",
    "nb_epochs = 40\n",
    "nb_classes = Y_train.shape[1]\n",
    "dropout = 0.05\n",
    "early_stopping = EarlyStopping(monitor='val_loss', min_delta=0.001, patience=2, verbose=1)\n",
    "# sgd = SGD(lr=0.1, decay=1e-6, momentum=0.9, nesterov=True)\n",
    "\n",
    "model = Sequential()\n",
    "model.add(LSTM(units=hidden_units, kernel_initializer='uniform', recurrent_initializer='uniform', \n",
    "               dropout=dropout, use_bias=True, unit_forget_bias=True, activation='tanh', recurrent_activation='sigmoid', \n",
    "               input_shape=input_shape))\n",
    "model.add(Dense(nb_classes))\n",
    "model.add(Activation('softmax'))\n",
    "model.compile(loss='categorical_crossentropy', metrics=['categorical_accuracy'], optimizer='adam')\n",
    "\n",
    "model.summary()\n",
    "history = model.fit(X_train, Y_train, batch_size=batch_size, epochs=nb_epochs, verbose=1, callbacks=[early_stopping],\n",
    "                    validation_split=0.15)"
   ]
  },
  {
   "cell_type": "markdown",
   "metadata": {},
   "source": [
    "### Evaluate the model performance"
   ]
  },
  {
   "cell_type": "code",
   "execution_count": 5,
   "metadata": {
    "scrolled": true
   },
   "outputs": [
    {
     "name": "stdout",
     "output_type": "stream",
     "text": [
      "Accuracy is 0.5027777777777778\n",
      "AUC is 0.7691542847923984\n"
     ]
    }
   ],
   "source": [
    "Y_pred = model.predict_proba(X_test)\n",
    "\n",
    "ref = np.zeros(shape=(Y_test.shape[0], Y_test.shape[1]))\n",
    "i = 0\n",
    "for idx in Y_pred.argmax(axis=-1):\n",
    "    ref[i, idx] = 1 \n",
    "    i += 1\n",
    "    \n",
    "print('Accuracy is', accuracy_score(Y_test, ref))\n",
    "AUC = roc_auc_score(Y_test, Y_pred)\n",
    "print('AUC is', AUC)"
   ]
  },
  {
   "cell_type": "code",
   "execution_count": 6,
   "metadata": {},
   "outputs": [
    {
     "data": {
      "text/plain": [
       "array([[1, 0, 0, 0],\n",
       "       [1, 0, 0, 0],\n",
       "       [1, 0, 0, 0],\n",
       "       ...,\n",
       "       [0, 0, 0, 1],\n",
       "       [1, 0, 0, 0],\n",
       "       [0, 1, 0, 0]], dtype=uint8)"
      ]
     },
     "execution_count": 6,
     "metadata": {},
     "output_type": "execute_result"
    }
   ],
   "source": [
    "Y_test"
   ]
  },
  {
   "cell_type": "code",
   "execution_count": 7,
   "metadata": {},
   "outputs": [
    {
     "data": {
      "text/plain": [
       "array([[0.5577736 , 0.41222003, 0.01161036, 0.01839604],\n",
       "       [0.27310646, 0.0820628 , 0.41377753, 0.23105322],\n",
       "       [0.83173543, 0.05229939, 0.02338157, 0.09258366],\n",
       "       ...,\n",
       "       [0.01640676, 0.01346094, 0.03931861, 0.9308137 ],\n",
       "       [0.8251634 , 0.11693434, 0.02074148, 0.03716078],\n",
       "       [0.68323004, 0.2838404 , 0.01262672, 0.0203029 ]], dtype=float32)"
      ]
     },
     "execution_count": 7,
     "metadata": {},
     "output_type": "execute_result"
    }
   ],
   "source": [
    "Y_pred"
   ]
  },
  {
   "cell_type": "markdown",
   "metadata": {
    "colab_type": "text",
    "id": "Q3fBo5X3kirZ"
   },
   "source": [
    "### Visualize training"
   ]
  },
  {
   "cell_type": "code",
   "execution_count": 8,
   "metadata": {
    "colab": {
     "autoexec": {
      "startup": false,
      "wait_interval": 0
     },
     "base_uri": "https://localhost:8080/",
     "height": 376
    },
    "colab_type": "code",
    "executionInfo": {
     "elapsed": 714,
     "status": "ok",
     "timestamp": 1529970375078,
     "user": {
      "displayName": "Anton Okhotnikov",
      "photoUrl": "https://lh3.googleusercontent.com/a/default-user=s128",
      "userId": "111886964614144141367"
     },
     "user_tz": -60
    },
    "id": "y_98LmkWkird",
    "outputId": "d2b14e91-a38d-4cd1-f2b3-b3175b62a0f0"
   },
   "outputs": [
    {
     "data": {
      "image/png": "[encoded data removed]",
      "text/plain": [
       "<Figure size 432x288 with 1 Axes>"
      ]
     },
     "metadata": {},
     "output_type": "display_data"
    }
   ],
   "source": [
    "plt.plot(history.history['val_loss'])\n",
    "plt.title('model train')\n",
    "plt.ylabel('validation loss')\n",
    "plt.xlabel('epoch')\n",
    "plt.show()"
   ]
  },
  {
   "cell_type": "markdown",
   "metadata": {
    "colab_type": "text",
    "id": "Vmb6sL1Uz1gl"
   },
   "source": [
    "### Save model weights"
   ]
  },
  {
   "cell_type": "code",
   "execution_count": 12,
   "metadata": {
    "colab": {
     "autoexec": {
      "startup": false,
      "wait_interval": 0
     }
    },
    "colab_type": "code",
    "id": "fBMal_cckisG"
   },
   "outputs": [],
   "source": [
    "model.save(path + '/data/model_LSTM.h5')"
   ]
  },
  {
   "cell_type": "code",
   "execution_count": null,
   "metadata": {},
   "outputs": [],
   "source": []
  }
 ],
 "metadata": {
  "accelerator": "GPU",
  "colab": {
   "default_view": {},
   "name": "train_model.ipynb",
   "provenance": [
    {
     "file_id": "https://github.com/AntonOkhotnikov/STC-task/blob/master/code/read_meta.ipynb",
     "timestamp": 1529789733794
    }
   ],
   "version": "0.3.2",
   "views": {}
  },
  "kernelspec": {
   "display_name": "Python 3",
   "language": "python",
   "name": "python3"
  },
  "language_info": {
   "codemirror_mode": {
    "name": "ipython",
    "version": 3
   },
   "file_extension": ".py",
   "mimetype": "text/x-python",
   "name": "python",
   "nbconvert_exporter": "python",
   "pygments_lexer": "ipython3",
   "version": "3.6.5"
  }
 },
 "nbformat": 4,
 "nbformat_minor": 1
}
