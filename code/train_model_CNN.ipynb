{
 "cells": [
  {
   "cell_type": "markdown",
   "metadata": {
    "colab_type": "text",
    "id": "lKvLuR1Gswd-"
   },
   "source": [
    "### Load libraries"
   ]
  },
  {
   "cell_type": "code",
   "execution_count": 1,
   "metadata": {
    "colab": {
     "autoexec": {
      "startup": false,
      "wait_interval": 0
     },
     "base_uri": "https://localhost:8080/",
     "height": 34
    },
    "colab_type": "code",
    "executionInfo": {
     "elapsed": 2050,
     "status": "ok",
     "timestamp": 1529964454943,
     "user": {
      "displayName": "Anton Okhotnikov",
      "photoUrl": "https://lh3.googleusercontent.com/a/default-user=s128",
      "userId": "111886964614144141367"
     },
     "user_tz": -60
    },
    "id": "ExyISQeeknDz",
    "outputId": "5eac7885-7f03-4009-99c5-0b40262bd4f3"
   },
   "outputs": [
    {
     "name": "stderr",
     "output_type": "stream",
     "text": [
      "Using TensorFlow backend.\n"
     ]
    }
   ],
   "source": [
    "import pandas as pd\n",
    "import numpy as np\n",
    "import os\n",
    "import matplotlib.pyplot as plt\n",
    "from keras.optimizers import SGD\n",
    "from keras.utils import np_utils\n",
    "from keras.models import Sequential\n",
    "from keras.layers.core import Dense, Activation\n",
    "from keras.layers.recurrent import LSTM\n",
    "from keras.layers import Dropout\n",
    "from keras.callbacks import EarlyStopping\n",
    "from keras.layers import Bidirectional\n",
    "from keras.layers import Flatten, Convolution2D as Conv2D\n",
    "from keras.layers.advanced_activations import LeakyReLU\n",
    "from keras.layers import MaxPooling2D, AveragePooling2D, BatchNormalization as BatchNorm\n",
    "import h5py\n",
    "from sklearn.utils import shuffle\n",
    "from sklearn.model_selection import train_test_split\n",
    "from sklearn.metrics import accuracy_score\n",
    "from sklearn.metrics import roc_auc_score\n",
    "from sklearn.metrics import f1_score"
   ]
  },
  {
   "cell_type": "markdown",
   "metadata": {
    "colab_type": "text",
    "id": "nAZxtIFmkigF"
   },
   "source": [
    "### Read data"
   ]
  },
  {
   "cell_type": "code",
   "execution_count": 2,
   "metadata": {
    "colab": {
     "autoexec": {
      "startup": false,
      "wait_interval": 0
     },
     "base_uri": "https://localhost:8080/",
     "height": 52
    },
    "colab_type": "code",
    "executionInfo": {
     "elapsed": 500787,
     "status": "ok",
     "timestamp": 1529964981465,
     "user": {
      "displayName": "Anton Okhotnikov",
      "photoUrl": "https://lh3.googleusercontent.com/a/default-user=s128",
      "userId": "111886964614144141367"
     },
     "user_tz": -60
    },
    "id": "hkBJcLzNkigP",
    "outputId": "82278ab3-eef9-4270-83fc-80888bbe21a2"
   },
   "outputs": [
    {
     "data": {
      "text/plain": [
       "((3596, 1, 16, 13), (3596, 4))"
      ]
     },
     "execution_count": 2,
     "metadata": {},
     "output_type": "execute_result"
    }
   ],
   "source": [
    "path = os.getcwd()\n",
    "temp = path.split('/')\n",
    "temp.pop(-1)\n",
    "path = '/'.join(temp)\n",
    "\n",
    "with h5py.File(path + '/data/train_16frames.h5', 'r') as h5file:\n",
    "    X_train = h5file['train'][:]\n",
    "    Y_train = h5file['target'][:]\n",
    "    h5file.close()\n",
    "\n",
    "# shuffle both\n",
    "X_train, Y_train = shuffle(X_train, Y_train)\n",
    "X_train = X_train.reshape((X_train.shape[0], 1, X_train.shape[1], X_train.shape[2]))\n",
    "    \n",
    "X_train.shape, Y_train.shape"
   ]
  },
  {
   "cell_type": "markdown",
   "metadata": {},
   "source": [
    "### Split to train and test sets"
   ]
  },
  {
   "cell_type": "code",
   "execution_count": 3,
   "metadata": {},
   "outputs": [],
   "source": [
    "X_train, X_test, Y_train, Y_test = train_test_split(X_train, Y_train, test_size=0.1, random_state=15)"
   ]
  },
  {
   "cell_type": "markdown",
   "metadata": {
    "colab_type": "text",
    "id": "fZDGm5HIkink"
   },
   "source": [
    "### Build a CNN classifier"
   ]
  },
  {
   "cell_type": "code",
   "execution_count": 19,
   "metadata": {
    "colab": {
     "autoexec": {
      "startup": false,
      "wait_interval": 0
     },
     "base_uri": "https://localhost:8080/",
     "height": 419
    },
    "colab_type": "code",
    "executionInfo": {
     "elapsed": 3725909,
     "status": "ok",
     "timestamp": 1529970354785,
     "user": {
      "displayName": "Anton Okhotnikov",
      "photoUrl": "https://lh3.googleusercontent.com/a/default-user=s128",
      "userId": "111886964614144141367"
     },
     "user_tz": -60
    },
    "id": "lWy4xYIekinq",
    "outputId": "5812eb83-14ae-45ca-e502-bed54906f37e",
    "scrolled": true
   },
   "outputs": [
    {
     "name": "stderr",
     "output_type": "stream",
     "text": [
      "/lyceum/ao2u17/.conda/envs/keras_env/lib/python3.6/site-packages/ipykernel_launcher.py:12: UserWarning: Update your `Conv2D` call to the Keras 2 API: `Conv2D(32, kernel_size=(3, 3), input_shape=(1, 16, 13..., data_format=\"channels_first\", padding=\"valid\")`\n",
      "  if sys.path[0] == '':\n"
     ]
    },
    {
     "name": "stdout",
     "output_type": "stream",
     "text": [
      "_________________________________________________________________\n",
      "Layer (type)                 Output Shape              Param #   \n",
      "=================================================================\n",
      "conv2d_10 (Conv2D)           (None, 32, 14, 11)        320       \n",
      "_________________________________________________________________\n",
      "batch_normalization_10 (Batc (None, 32, 14, 11)        44        \n",
      "_________________________________________________________________\n",
      "leaky_re_lu_10 (LeakyReLU)   (None, 32, 14, 11)        0         \n",
      "_________________________________________________________________\n",
      "conv2d_11 (Conv2D)           (None, 32, 12, 9)         9248      \n",
      "_________________________________________________________________\n",
      "batch_normalization_11 (Batc (None, 32, 12, 9)         36        \n",
      "_________________________________________________________________\n",
      "leaky_re_lu_11 (LeakyReLU)   (None, 32, 12, 9)         0         \n",
      "_________________________________________________________________\n",
      "max_pooling2d_7 (MaxPooling2 (None, 31, 11, 9)         0         \n",
      "_________________________________________________________________\n",
      "dropout_10 (Dropout)         (None, 31, 11, 9)         0         \n",
      "_________________________________________________________________\n",
      "conv2d_12 (Conv2D)           (None, 32, 9, 7)          8960      \n",
      "_________________________________________________________________\n",
      "batch_normalization_12 (Batc (None, 32, 9, 7)          28        \n",
      "_________________________________________________________________\n",
      "leaky_re_lu_12 (LeakyReLU)   (None, 32, 9, 7)          0         \n",
      "_________________________________________________________________\n",
      "max_pooling2d_8 (MaxPooling2 (None, 31, 8, 7)          0         \n",
      "_________________________________________________________________\n",
      "dropout_11 (Dropout)         (None, 31, 8, 7)          0         \n",
      "_________________________________________________________________\n",
      "flatten_4 (Flatten)          (None, 1736)              0         \n",
      "_________________________________________________________________\n",
      "dense_7 (Dense)              (None, 128)               222336    \n",
      "_________________________________________________________________\n",
      "activation_7 (Activation)    (None, 128)               0         \n",
      "_________________________________________________________________\n",
      "dropout_12 (Dropout)         (None, 128)               0         \n",
      "_________________________________________________________________\n",
      "dense_8 (Dense)              (None, 4)                 516       \n",
      "_________________________________________________________________\n",
      "activation_8 (Activation)    (None, 4)                 0         \n",
      "=================================================================\n",
      "Total params: 241,488\n",
      "Trainable params: 241,434\n",
      "Non-trainable params: 54\n",
      "_________________________________________________________________\n",
      "Train on 2750 samples, validate on 486 samples\n",
      "Epoch 1/40\n",
      "2750/2750 [==============================] - 3s 1ms/step - loss: 3.8972 - categorical_accuracy: 0.2978 - val_loss: 1.5542 - val_categorical_accuracy: 0.3560\n",
      "Epoch 2/40\n",
      "2750/2750 [==============================] - 2s 546us/step - loss: 1.3466 - categorical_accuracy: 0.3756 - val_loss: 1.3131 - val_categorical_accuracy: 0.3519\n",
      "Epoch 3/40\n",
      "2750/2750 [==============================] - 2s 550us/step - loss: 1.2751 - categorical_accuracy: 0.4145 - val_loss: 1.3159 - val_categorical_accuracy: 0.4033\n",
      "Epoch 4/40\n",
      "2750/2750 [==============================] - 2s 547us/step - loss: 1.2142 - categorical_accuracy: 0.4495 - val_loss: 1.2197 - val_categorical_accuracy: 0.4671\n",
      "Epoch 5/40\n",
      "2750/2750 [==============================] - 1s 544us/step - loss: 1.1861 - categorical_accuracy: 0.4542 - val_loss: 1.2560 - val_categorical_accuracy: 0.4074\n",
      "Epoch 6/40\n",
      "2750/2750 [==============================] - 1s 538us/step - loss: 1.1778 - categorical_accuracy: 0.4582 - val_loss: 1.2111 - val_categorical_accuracy: 0.4609\n",
      "Epoch 7/40\n",
      "2750/2750 [==============================] - 2s 547us/step - loss: 1.1522 - categorical_accuracy: 0.4851 - val_loss: 1.2611 - val_categorical_accuracy: 0.4342\n",
      "Epoch 8/40\n",
      "2750/2750 [==============================] - 2s 547us/step - loss: 1.1391 - categorical_accuracy: 0.4836 - val_loss: 1.2437 - val_categorical_accuracy: 0.4424\n",
      "Epoch 00008: early stopping\n"
     ]
    }
   ],
   "source": [
    "nb_filters = 32\n",
    "pool_size = (2, 2)\n",
    "kernel_size = (3, 3)\n",
    "batch_size = 16\n",
    "nb_epochs = 40\n",
    "nb_classes = Y_train.shape[1]\n",
    "input_shape = (1, X_train.shape[2], X_train.shape[3])\n",
    "early_stopping = EarlyStopping(monitor='val_loss', min_delta=0.001, patience=2, verbose=1)\n",
    "\n",
    "model = Sequential()\n",
    "model.add(Conv2D(nb_filters, kernel_size=kernel_size,\n",
    "                    border_mode='valid', input_shape=input_shape, data_format='channels_first'))\n",
    "model.add(BatchNorm())\n",
    "model.add(LeakyReLU(alpha=0.01))\n",
    "\n",
    "model.add(Conv2D(nb_filters, kernel_size=kernel_size, data_format='channels_first'))\n",
    "model.add(BatchNorm())\n",
    "model.add(LeakyReLU(alpha=0.01))\n",
    "model.add(MaxPooling2D(pool_size=pool_size, strides=(1, 1)))\n",
    "model.add(Dropout(0.1))\n",
    "\n",
    "model.add(Conv2D(nb_filters, kernel_size=kernel_size, data_format='channels_first'))\n",
    "model.add(BatchNorm())\n",
    "model.add(LeakyReLU(alpha=0.01))\n",
    "model.add(MaxPooling2D(pool_size=pool_size, strides=(1, 1)))\n",
    "model.add(Dropout(0.1))\n",
    "\n",
    "model.add(Flatten())\n",
    "model.add(Dense(128))\n",
    "model.add(Activation('linear'))\n",
    "model.add(Dropout(0.1))\n",
    "\n",
    "model.add(Dense(nb_classes))\n",
    "model.add(Activation('softmax'))\n",
    "\n",
    "model.compile(loss='categorical_crossentropy', metrics=['categorical_accuracy'], optimizer='adam')\n",
    "\n",
    "model.summary()\n",
    "history = model.fit(X_train, Y_train, batch_size=batch_size, epochs=nb_epochs, verbose=1, callbacks=[early_stopping],\n",
    "                    validation_split=0.15)"
   ]
  },
  {
   "cell_type": "markdown",
   "metadata": {},
   "source": [
    "### Evaluate the model performance"
   ]
  },
  {
   "cell_type": "code",
   "execution_count": 20,
   "metadata": {},
   "outputs": [
    {
     "name": "stdout",
     "output_type": "stream",
     "text": [
      "Accuracy is 0.475\n",
      "AUC is 0.7148167251569506\n"
     ]
    }
   ],
   "source": [
    "Y_pred = model.predict_proba(X_test)\n",
    "\n",
    "ref = np.zeros(shape=(Y_test.shape[0], Y_test.shape[1]))\n",
    "i = 0\n",
    "for idx in Y_pred.argmax(axis=-1):\n",
    "    ref[i, idx] = 1 \n",
    "    i += 1\n",
    "    \n",
    "print('Accuracy is', accuracy_score(Y_test, ref))\n",
    "AUC = roc_auc_score(Y_test, Y_pred)\n",
    "print('AUC is', AUC)"
   ]
  },
  {
   "cell_type": "code",
   "execution_count": 21,
   "metadata": {},
   "outputs": [
    {
     "data": {
      "text/plain": [
       "array([[1, 0, 0, 0],\n",
       "       [0, 1, 0, 0],\n",
       "       [0, 1, 0, 0],\n",
       "       ...,\n",
       "       [1, 0, 0, 0],\n",
       "       [0, 1, 0, 0],\n",
       "       [0, 0, 1, 0]], dtype=uint8)"
      ]
     },
     "execution_count": 21,
     "metadata": {},
     "output_type": "execute_result"
    }
   ],
   "source": [
    "Y_test"
   ]
  },
  {
   "cell_type": "code",
   "execution_count": 22,
   "metadata": {},
   "outputs": [
    {
     "data": {
      "text/plain": [
       "array([[0.30056596, 0.29500943, 0.30975953, 0.09466504],\n",
       "       [0.05555949, 0.4608614 , 0.38218164, 0.10139746],\n",
       "       [0.17022268, 0.39493033, 0.317681  , 0.11716594],\n",
       "       ...,\n",
       "       [0.16353147, 0.40110224, 0.30941814, 0.12594818],\n",
       "       [0.19921398, 0.32617363, 0.29947972, 0.17513265],\n",
       "       [0.34092033, 0.30625427, 0.26076186, 0.09206348]], dtype=float32)"
      ]
     },
     "execution_count": 22,
     "metadata": {},
     "output_type": "execute_result"
    }
   ],
   "source": [
    "Y_pred"
   ]
  },
  {
   "cell_type": "markdown",
   "metadata": {
    "colab_type": "text",
    "id": "Q3fBo5X3kirZ"
   },
   "source": [
    "### Visualize training"
   ]
  },
  {
   "cell_type": "code",
   "execution_count": 23,
   "metadata": {
    "colab": {
     "autoexec": {
      "startup": false,
      "wait_interval": 0
     },
     "base_uri": "https://localhost:8080/",
     "height": 376
    },
    "colab_type": "code",
    "executionInfo": {
     "elapsed": 714,
     "status": "ok",
     "timestamp": 1529970375078,
     "user": {
      "displayName": "Anton Okhotnikov",
      "photoUrl": "https://lh3.googleusercontent.com/a/default-user=s128",
      "userId": "111886964614144141367"
     },
     "user_tz": -60
    },
    "id": "y_98LmkWkird",
    "outputId": "d2b14e91-a38d-4cd1-f2b3-b3175b62a0f0"
   },
   "outputs": [
    {
     "data": {
      "image/png": "[encoded data removed]",
      "text/plain": [
       "<Figure size 432x288 with 1 Axes>"
      ]
     },
     "metadata": {},
     "output_type": "display_data"
    }
   ],
   "source": [
    "plt.plot(history.history['val_loss'])\n",
    "plt.title('model train')\n",
    "plt.ylabel('validation loss')\n",
    "plt.xlabel('epoch')\n",
    "plt.show()"
   ]
  },
  {
   "cell_type": "markdown",
   "metadata": {
    "colab_type": "text",
    "id": "Vmb6sL1Uz1gl"
   },
   "source": [
    "### Save model weights"
   ]
  },
  {
   "cell_type": "code",
   "execution_count": 24,
   "metadata": {
    "colab": {
     "autoexec": {
      "startup": false,
      "wait_interval": 0
     }
    },
    "colab_type": "code",
    "id": "fBMal_cckisG"
   },
   "outputs": [],
   "source": [
    "model.save(path + '/data/model_CNN.h5')"
   ]
  },
  {
   "cell_type": "code",
   "execution_count": 0,
   "metadata": {
    "colab": {
     "autoexec": {
      "startup": false,
      "wait_interval": 0
     }
    },
    "colab_type": "code",
    "id": "9liCfFxWZa9Q"
   },
   "outputs": [],
   "source": []
  }
 ],
 "metadata": {
  "accelerator": "GPU",
  "colab": {
   "default_view": {},
   "name": "train_model.ipynb",
   "provenance": [
    {
     "file_id": "https://github.com/AntonOkhotnikov/STC-task/blob/master/code/read_meta.ipynb",
     "timestamp": 1529789733794
    }
   ],
   "version": "0.3.2",
   "views": {}
  },
  "kernelspec": {
   "display_name": "Python 3",
   "language": "python",
   "name": "python3"
  },
  "language_info": {
   "codemirror_mode": {
    "name": "ipython",
    "version": 3
   },
   "file_extension": ".py",
   "mimetype": "text/x-python",
   "name": "python",
   "nbconvert_exporter": "python",
   "pygments_lexer": "ipython3",
   "version": "3.6.5"
  }
 },
 "nbformat": 4,
 "nbformat_minor": 1
}
